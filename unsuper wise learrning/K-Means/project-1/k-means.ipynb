{
 "cells": [
  {
   "cell_type": "code",
   "execution_count": 3,
   "id": "104a78d9",
   "metadata": {},
   "outputs": [],
   "source": [
    "import pandas as pd\n",
    "from sklearn.preprocessing import StandardScaler\n",
    "from sklearn.cluster import KMeans\n",
    "from sklearn.metrics import confusion_matrix"
   ]
  },
  {
   "cell_type": "code",
   "execution_count": 4,
   "id": "8ba016a5",
   "metadata": {},
   "outputs": [],
   "source": [
    "df = pd.read_csv(\"breastcancer_training.csv\")\n"
   ]
  },
  {
   "cell_type": "code",
   "execution_count": 5,
   "id": "13186a26",
   "metadata": {},
   "outputs": [],
   "source": [
    "# Separate features and label\n",
    "X = df.drop('Class', axis=1)\n",
    "y = df['Class']"
   ]
  },
  {
   "cell_type": "code",
   "execution_count": 6,
   "id": "b04830dc",
   "metadata": {},
   "outputs": [],
   "source": [
    "# Scale features\n",
    "scaler = StandardScaler()\n",
    "X_scaled = scaler.fit_transform(X)"
   ]
  },
  {
   "cell_type": "code",
   "execution_count": 7,
   "metadata": {},
   "outputs": [],
   "source": [
    "# Apply K-Means\n",
    "kmeans = KMeans(n_clusters=2, random_state=42)\n",
    "clusters = kmeans.fit_predict(X_scaled)"
   ]
  },
  {
   "cell_type": "code",
   "execution_count": 8,
   "metadata": {},
   "outputs": [],
   "source": [
    "# Try both cluster label mappings to match 'Class'\n",
    "conf1 = confusion_matrix(y, clusters)\n",
    "conf2 = confusion_matrix(y, 1 - clusters)"
   ]
  },
  {
   "cell_type": "code",
   "execution_count": 9,
   "id": "26cbb7e7",
   "metadata": {},
   "outputs": [],
   "source": [
    "# Pick the best match\n",
    "if conf1.trace() > conf2.trace():\n",
    "    df['Predicted_Class'] = clusters\n",
    "else:\n",
    "    df['Predicted_Class'] = 1 - clusters"
   ]
  },
  {
   "cell_type": "code",
   "execution_count": 10,
   "metadata": {},
   "outputs": [
    {
     "name": "stdout",
     "output_type": "stream",
     "text": [
      "   Class  Predicted_Class\n",
      "0      0                0\n",
      "1      0                0\n",
      "2      0                0\n",
      "3      0                0\n",
      "4      0                0\n"
     ]
    }
   ],
   "source": [
    "\n",
    "# Show result\n",
    "print(df[['Class', 'Predicted_Class']].head())"
   ]
  },
  {
   "cell_type": "code",
   "execution_count": 11,
   "metadata": {},
   "outputs": [
    {
     "name": "stdout",
     "output_type": "stream",
     "text": [
      "\n",
      "Confusion Matrix:\n",
      " [[166   2]\n",
      " [ 22 146]]\n"
     ]
    }
   ],
   "source": [
    "\n",
    "# Optional: Confusion Matrix\n",
    "print(\"\\nConfusion Matrix:\\n\", confusion_matrix(y, df['Predicted_Class']))"
   ]
  }
 ],
 "metadata": {
  "kernelspec": {
   "display_name": "Python 3",
   "language": "python",
   "name": "python3"
  },
  "language_info": {
   "codemirror_mode": {
    "name": "ipython",
    "version": 3
   },
   "file_extension": ".py",
   "mimetype": "text/x-python",
   "name": "python",
   "nbconvert_exporter": "python",
   "pygments_lexer": "ipython3",
   "version": "3.11.8"
  }
 },
 "nbformat": 4,
 "nbformat_minor": 5
}
